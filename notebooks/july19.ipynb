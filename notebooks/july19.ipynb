{
 "cells": [
  {
   "cell_type": "code",
   "execution_count": 33,
   "metadata": {},
   "outputs": [
    {
     "name": "stdout",
     "output_type": "stream",
     "text": [
      "Second String:  Ralph Wiggum: Eccentric, bewildered, innocent, Chief Wiggum’s son, Ralph, school, humorous, nonsensical, childlike, endearing.\n",
      "Cosine similarity: 0.6543\n",
      "\n",
      "\n",
      "Second String:  Kearney Zzyzwicz: Bully, bald, older appearance, Kearney, school, tough, adult responsibilities, rebellious, humorous.\n",
      "Cosine similarity: 0.7204\n",
      "\n",
      "\n",
      "Second String:  Comicbook Guy: Sarcastic, overweight, comic book store owner, pop culture expert, critical, Comic Book Guy, nerdy, knowledgeable, cynical.\n",
      "Cosine similarity: 0.6728\n",
      "\n",
      "\n",
      "Second String:  Jessica Lovejoy: Rebellious, Reverend’s daughter, Jessica, Bart, manipulative, mischievous, charming, complex.\n",
      "Cosine similarity: 0.6500\n",
      "\n",
      "\n",
      "Second String:  grapefruit\n",
      "Cosine similarity: 0.6632\n",
      "\n",
      "\n"
     ]
    }
   ],
   "source": [
    "import ollama\n",
    "import numpy as np\n",
    "from Levenshtein import distance as levenshtein_distance\n",
    "from scipy.spatial.distance import cosine\n",
    "\n",
    "def generate_embedding(text):\n",
    "    response = ollama.embeddings(model='snowflake-arctic-embed', prompt=text)\n",
    "    return response['embedding']\n",
    "\n",
    "def cosine_similarity(vec1, vec2):\n",
    "    return 1 - cosine(vec1, vec2)\n",
    "\n",
    "def compare_strings(string1, string2):\n",
    "    # Calculate Levenshtein distance\n",
    "    lev_distance = levenshtein_distance(string1, string2)\n",
    "    \n",
    "    # Generate embeddings\n",
    "    embedding1 = generate_embedding(string1)\n",
    "    embedding2 = generate_embedding(string2)\n",
    "    \n",
    "    # Calculate cosine similarity\n",
    "    cos_sim = cosine_similarity(embedding1, embedding2)\n",
    "    \n",
    "    # Print results\n",
    "    print(\"Second String: \", string2)\n",
    "    #print(f\"Levenshtein distance: {lev_distance}\")\n",
    "    print(f\"Cosine similarity: {cos_sim:.4f}\")\n",
    "    print(\"\\n\")\n",
    "\n",
    "# Example usage\n",
    "string1 = \"man\"\n",
    "string2 = \"Ralph Wiggum: Eccentric, bewildered, innocent, Chief Wiggum’s son, Ralph, school, humorous, nonsensical, childlike, endearing.\"\n",
    "string3 = \"Kearney Zzyzwicz: Bully, bald, older appearance, Kearney, school, tough, adult responsibilities, rebellious, humorous.\"\n",
    "string4 = \"Comicbook Guy: Sarcastic, overweight, comic book store owner, pop culture expert, critical, Comic Book Guy, nerdy, knowledgeable, cynical.\"\n",
    "string5 = \"Jessica Lovejoy: Rebellious, Reverend’s daughter, Jessica, Bart, manipulative, mischievous, charming, complex.\"\n",
    "string6 = \"grapefruit\"\n",
    "\n",
    "compare_strings(string1, string2)\n",
    "compare_strings(string1, string3)\n",
    "compare_strings(string1, string4)\n",
    "compare_strings(string1, string5)\n",
    "compare_strings(string1, string6)\n"
   ]
  },
  {
   "cell_type": "code",
   "execution_count": 34,
   "metadata": {},
   "outputs": [
    {
     "name": "stdout",
     "output_type": "stream",
     "text": [
      "Second String:  The quick brown fox jumps over the tired dog.\n",
      "Cosine similarity: 0.9605\n",
      "\n",
      "\n",
      "Second String:  The quick brown fox jumps over the industrious dog.\n",
      "Cosine similarity: 0.9311\n",
      "\n",
      "\n",
      "Second String:  The quick brown fox jumps over the Talinn dog.\n",
      "Cosine similarity: 0.9191\n",
      "\n",
      "\n",
      "Second String:  The quick brown fox jumps over the layzy dog.\n",
      "Cosine similarity: 0.9473\n",
      "\n",
      "\n",
      "Second String:  The quick brown fox jumps over the dog.\n",
      "Cosine similarity: 0.9633\n",
      "\n",
      "\n"
     ]
    }
   ],
   "source": [
    "string1 = \"The quick brown fox jumps over the lazy dog.\"\n",
    "string2 = \"The quick brown fox jumps over the tired dog.\"\n",
    "string3 = \"The quick brown fox jumps over the industrious dog.\"\n",
    "string4 = \"The quick brown fox jumps over the Talinn dog.\"\n",
    "string5 = \"The quick brown fox jumps over the layzy dog.\"\n",
    "string6 = \"The quick brown fox jumps over the dog.\"\n",
    "\n",
    "\n",
    "compare_strings(string1, string2)\n",
    "compare_strings(string1, string3)\n",
    "compare_strings(string1, string4)\n",
    "compare_strings(string1, string5)\n",
    "compare_strings(string1, string6)"
   ]
  },
  {
   "cell_type": "code",
   "execution_count": 32,
   "metadata": {},
   "outputs": [
    {
     "name": "stdout",
     "output_type": "stream",
     "text": [
      "Second String:  The quick brown dog jumps over the lazy fox.\n",
      "Cosine similarity: 0.9878\n",
      "Second String:  The slow brown fox jumps over the lazy dog.\n",
      "Cosine similarity: 0.9819\n",
      "Second String:  The quick purple fox jumps over the lazy dog.\n",
      "Cosine similarity: 0.9768\n",
      "Second String:  The quick brown fox Toyota over the lazy dog.\n",
      "Cosine similarity: 0.9096\n",
      "Second String:  The quick brown fox jumps over teh lazy dog.\n",
      "Cosine similarity: 0.9775\n"
     ]
    }
   ],
   "source": [
    "string1 = \"The quick brown fox jumps over the lazy dog.\"\n",
    "string2 = \"The quick brown dog jumps over the lazy fox.\"\n",
    "string3 = \"The slow brown fox jumps over the lazy dog.\"\n",
    "string4 = \"The quick purple fox jumps over the lazy dog.\"\n",
    "string5 = \"The quick brown fox Toyota over the lazy dog.\"\n",
    "string6 = \"The quick brown fox jumps over teh lazy dog.\"\n",
    "\n",
    "\n",
    "compare_strings(string1, string2)\n",
    "compare_strings(string1, string3)\n",
    "compare_strings(string1, string4)\n",
    "compare_strings(string1, string5)\n",
    "compare_strings(string1, string6)"
   ]
  },
  {
   "cell_type": "code",
   "execution_count": 28,
   "metadata": {},
   "outputs": [
    {
     "name": "stdout",
     "output_type": "stream",
     "text": [
      "Second String:  The quick brown fox\n",
      "Cosine similarity: 0.8818\n",
      "Second String:  jumps over the lazy dog.\n",
      "Cosine similarity: 0.9306\n",
      "Second String:  The quick brown\n",
      "Cosine similarity: 0.8418\n",
      "Second String:  fox jumps over\n",
      "Cosine similarity: 0.8710\n",
      "Second String:  the lazy dog.\n",
      "Cosine similarity: 0.8685\n"
     ]
    }
   ],
   "source": [
    "string1 = \"The quick brown fox jumps over the lazy dog.\"\n",
    "string2 = \"The quick brown fox\"\n",
    "string3 = \"jumps over the lazy dog.\"\n",
    "\n",
    "string4 = \"The quick brown\"\n",
    "string5 = \"fox jumps over\"\n",
    "string6 = \"the lazy dog.\"\n",
    "\n",
    "\n",
    "compare_strings(string1, string2)\n",
    "compare_strings(string1, string3)\n",
    "compare_strings(string1, string4)\n",
    "compare_strings(string1, string5)\n",
    "compare_strings(string1, string6)"
   ]
  },
  {
   "cell_type": "code",
   "execution_count": 31,
   "metadata": {},
   "outputs": [
    {
     "name": "stdout",
     "output_type": "stream",
     "text": [
      "Sum1: 0.9518\n",
      "Second String:  The quick brown fox\n",
      "Cosine similarity: 0.8818\n",
      "Second String:  jumps over the lazy dog.\n",
      "Cosine similarity: 0.9306\n",
      "Second String:  The quick brown\n",
      "Cosine similarity: 0.8418\n",
      "Second String:  fox jumps over\n",
      "Cosine similarity: 0.8710\n",
      "Second String:  the lazy dog.\n",
      "Cosine similarity: 0.8685\n"
     ]
    }
   ],
   "source": [
    "string1 = \"The quick brown fox jumps over the lazy dog.\"\n",
    "string2 = \"The quick brown fox\"\n",
    "string3 = \"jumps over the lazy dog.\"\n",
    "\n",
    "string4 = \"The quick brown\"\n",
    "string5 = \"fox jumps over\"\n",
    "string6 = \"the lazy dog.\"\n",
    "\n",
    "def sum_embeddings(string1, string2):\n",
    "    emb1 = generate_embedding(string1)\n",
    "    emb2 = generate_embedding(string2)\n",
    "    \n",
    "    return np.add(emb1, emb2)\n",
    "\n",
    "\n",
    "\n",
    "sum1 = cosine_similarity(sum_embeddings(string2, string3), generate_embedding(string1))\n",
    "print(f\"Sum1: {sum1:.4f}\")\n",
    "\n",
    "\n",
    "\n",
    "compare_strings(string1, string2)\n",
    "compare_strings(string1, string3)\n",
    "compare_strings(string1, string4)\n",
    "compare_strings(string1, string5)\n",
    "compare_strings(string1, string6)"
   ]
  },
  {
   "cell_type": "code",
   "execution_count": 7,
   "metadata": {},
   "outputs": [
    {
     "name": "stdout",
     "output_type": "stream",
     "text": [
      "[ 0.07373047  0.00405884 -0.13574219  0.02209473  0.18066406 -0.04663086\n",
      "  0.22460938 -0.22949219 -0.04003906  0.22558594 -0.12402344 -0.24316406\n",
      " -0.03662109 -0.28710938  0.07714844  0.22460938  0.26171875  0.19628906\n",
      " -0.15527344  0.08544922 -0.09570312  0.2890625   0.04467773 -0.13378906\n",
      "  0.11767578 -0.16503906  0.04101562  0.078125    0.13183594 -0.29296875\n",
      " -0.04443359  0.12988281  0.27539062  0.23144531  0.16992188 -0.11425781\n",
      " -0.02587891 -0.14355469  0.07568359  0.32226562  0.28125     0.00085831\n",
      "  0.10791016  0.11816406 -0.04589844 -0.1640625   0.10058594 -0.11767578\n",
      "  0.03979492 -0.13183594  0.07373047  0.05786133 -0.05664062  0.21484375\n",
      " -0.06591797  0.12890625  0.00439453 -0.15234375  0.21386719 -0.00291443\n",
      " -0.03076172  0.15820312 -0.09423828 -0.2734375   0.29296875 -0.07421875\n",
      " -0.05200195 -0.06201172 -0.07958984  0.09375    -0.13085938 -0.05639648\n",
      "  0.08105469  0.11914062 -0.09130859 -0.06396484  0.03149414  0.15527344\n",
      "  0.02758789 -0.03759766 -0.18164062 -0.00891113 -0.07861328  0.05908203\n",
      " -0.17480469 -0.27148438 -0.17382812  0.22558594 -0.20703125  0.04052734\n",
      " -0.09960938  0.18066406 -0.24023438  0.04760742 -0.21875     0.05322266\n",
      " -0.03076172  0.18359375 -0.04907227 -0.12988281 -0.13671875  0.21484375\n",
      " -0.0625     -0.203125   -0.14160156  0.25390625  0.14453125 -0.2578125\n",
      " -0.0234375  -0.13867188 -0.04614258  0.05029297 -0.20898438 -0.04223633\n",
      "  0.17382812 -0.18066406 -0.09912109 -0.19335938  0.05639648 -0.22753906\n",
      " -0.00408936 -0.125       0.32226562  0.03100586 -0.04882812 -0.01904297\n",
      " -0.08496094  0.00671387 -0.00442505  0.37304688 -0.15917969 -0.04980469\n",
      " -0.13183594  0.14257812  0.21289062  0.08837891 -0.12255859  0.04711914\n",
      " -0.22167969  0.17578125 -0.1328125   0.14941406 -0.00994873  0.11962891\n",
      " -0.01269531  0.07128906  0.12207031 -0.05126953 -0.18066406 -0.33203125\n",
      "  0.24511719  0.30664062 -0.12109375  0.33203125 -0.02209473  0.08984375\n",
      " -0.02429199 -0.08984375 -0.27929688 -0.17578125  0.00564575  0.18066406\n",
      "  0.13476562  0.15722656  0.36523438 -0.44140625 -0.03125    -0.3125\n",
      " -0.06225586  0.13085938 -0.04931641  0.21386719 -0.07763672  0.13378906\n",
      " -0.04785156  0.06933594  0.00775146 -0.06152344  0.08105469 -0.13574219\n",
      " -0.20605469 -0.21777344  0.21386719 -0.18554688 -0.08447266 -0.03564453\n",
      " -0.26757812  0.015625   -0.14746094 -0.20800781 -0.03808594  0.10839844\n",
      "  0.296875   -0.16015625 -0.0378418  -0.08105469  0.04199219 -0.23046875\n",
      " -0.23828125 -0.140625    0.06933594  0.22363281 -0.10546875 -0.04101562\n",
      "  0.03088379  0.234375   -0.24414062 -0.03662109 -0.09375     0.21484375\n",
      " -0.18261719  0.09179688 -0.18945312 -0.06103516 -0.02685547  0.00314331\n",
      "  0.42773438  0.12304688 -0.0177002  -0.140625   -0.06835938  0.29101562\n",
      "  0.02380371 -0.04711914 -0.0234375   0.13476562 -0.01324463 -0.13574219\n",
      " -0.13574219 -0.00921631 -0.04296875  0.04345703  0.09130859  0.02111816\n",
      "  0.15429688 -0.02697754 -0.04418945 -0.03686523  0.19628906  0.12988281\n",
      "  0.07324219  0.03613281  0.06738281 -0.20410156 -0.07666016  0.10009766\n",
      " -0.08691406 -0.13964844 -0.07226562 -0.4375      0.01977539  0.10498047\n",
      "  0.11083984  0.33789062  0.26367188 -0.3046875   0.11230469 -0.11572266\n",
      " -0.13964844 -0.37109375 -0.18359375 -0.12207031 -0.03112793  0.07177734\n",
      "  0.06884766 -0.01147461  0.26757812 -0.17285156  0.04785156 -0.01068115\n",
      " -0.05615234  0.1171875   0.12060547  0.12597656  0.07519531 -0.20605469\n",
      "  0.16992188 -0.01879883  0.02429199 -0.06933594  0.07519531 -0.00466919\n",
      " -0.328125    0.02502441 -0.12060547  0.02661133 -0.12792969 -0.09521484\n",
      "  0.15722656  0.09814453  0.01843262 -0.02124023 -0.25       -0.0201416\n",
      " -0.31054688 -0.20703125 -0.00631714 -0.14160156 -0.15039062 -0.13769531]\n"
     ]
    }
   ],
   "source": [
    "#!pip install scipy gensim\n",
    "# Using gensim for Word2Vec\n",
    "from gensim.models import KeyedVectors\n",
    "word_vectors = KeyedVectors.load_word2vec_format('./GoogleNews-vectors-negative300.bin', binary=True)\n",
    "\n",
    "target = 'Prince'\n",
    "target_vec = word_vectors[target]\n",
    "print(len(target_vec))\n",
    "\n",
    "while True:\n",
    "    input = input(\"Enter a word: \")\n",
    "    \n",
    "    \n",
    "    # Get vector for a word\n",
    "    king_vec = word_vectors['king']\n",
    "\n",
    "man_vec = word_vectors['man']\n",
    "\n",
    "vector3 = king_vec - man_vec\n",
    "\n",
    "#print(vector)\n",
    "# Find similar words\n",
    "similar_words = word_vectors.most_similar(vector3)\n",
    "print(similar_words)"
   ]
  },
  {
   "cell_type": "code",
   "execution_count": 20,
   "metadata": {},
   "outputs": [
    {
     "name": "stdout",
     "output_type": "stream",
     "text": [
      "[('Pistons', 0.8451752066612244), ('Celtics', 0.7604742646217346), ('Detroit_Pistons', 0.7438536882400513), ('Lakers', 0.6999762058258057), ('Pacers', 0.6926992535591125), ('Sixers', 0.6918555498123169), ('McDyess', 0.6811235547065735), ('Cavs', 0.6745649576187134), ('Rasheed_Wallace', 0.656218945980072), ('Nuggets', 0.6523663997650146)]\n"
     ]
    }
   ],
   "source": [
    "# Get vector for a word\n",
    "king_vec = word_vectors['Celtics']\n",
    "\n",
    "man_vec = word_vectors['Boston']\n",
    "\n",
    "woman_vec = word_vectors['Detroit']\n",
    "\n",
    "vector3 = king_vec - man_vec + woman_vec\n",
    "\n",
    "#print(vector)\n",
    "# Find similar words\n",
    "similar_words = word_vectors.most_similar(vector3)\n",
    "print(similar_words)"
   ]
  }
 ],
 "metadata": {
  "kernelspec": {
   "display_name": "ollama",
   "language": "python",
   "name": "python3"
  },
  "language_info": {
   "codemirror_mode": {
    "name": "ipython",
    "version": 3
   },
   "file_extension": ".py",
   "mimetype": "text/x-python",
   "name": "python",
   "nbconvert_exporter": "python",
   "pygments_lexer": "ipython3",
   "version": "3.11.9"
  }
 },
 "nbformat": 4,
 "nbformat_minor": 2
}
